{
 "cells": [
  {
   "cell_type": "code",
   "execution_count": 5,
   "metadata": {},
   "outputs": [],
   "source": [
    "import cv2\n",
    "import os\n",
    "from src.models.detect_model import Face_Detection\n",
    "\n",
    "def save_image(fr, dest):\n",
    "    model = Face_Detection()\n",
    "    names = os.listdir(path=fr)\n",
    "\n",
    "    for name in names:\n",
    "        imgs = os.listdir(f\"{fr}/{name}\")\n",
    "        os.makedirs(f\"{dest}/{name}\")\n",
    "        for img in imgs:\n",
    "            \n",
    "            _img = cv2.imread(f\"{fr}/{name}/{img}\")\n",
    "            model.set_frame_len(_img)\n",
    "\n",
    "            faces = model.detectMultiScale(_img)\n",
    "            \n",
    "            for (x1, y1, x2, y2) in faces:\n",
    "                face = cv2.resize(_img[y1:y2, x1:x2], (128, 128))\n",
    "                cv2.imwrite(img=face, filename=f\"./{dest}/{name}/{img}\")\n",
    "\n",
    "save_image(\"Raw Database\", \"Face Database\")"
   ]
  }
 ],
 "metadata": {
  "kernelspec": {
   "display_name": "venv",
   "language": "python",
   "name": "python3"
  },
  "language_info": {
   "codemirror_mode": {
    "name": "ipython",
    "version": 3
   },
   "file_extension": ".py",
   "mimetype": "text/x-python",
   "name": "python",
   "nbconvert_exporter": "python",
   "pygments_lexer": "ipython3",
   "version": "3.10.11"
  }
 },
 "nbformat": 4,
 "nbformat_minor": 2
}
