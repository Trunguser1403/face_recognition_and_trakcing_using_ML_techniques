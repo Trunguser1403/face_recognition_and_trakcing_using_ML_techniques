{
 "cells": [
  {
   "cell_type": "code",
   "execution_count": 1,
   "metadata": {},
   "outputs": [],
   "source": [
    "import cv2\n",
    "import numpy as np\n",
    "import matplotlib.pyplot as plt\n",
    "import seaborn as sns\n",
    "import os\n",
    "from sklearn.svm import SVC \n",
    "\n",
    "from src.models.detect_model import Face_Detection\n",
    "from src.models.recognize_model import Face_Recognition, load_model, save_model"
   ]
  },
  {
   "cell_type": "code",
   "execution_count": 13,
   "metadata": {},
   "outputs": [],
   "source": [
    "# import cv2\n",
    "# from ultralytics import YOLO\n",
    "# import os\n",
    "# import torch\n",
    "# import matplotlib.pyplot as plt\n",
    "\n",
    "\n",
    "# def save_image(fr, dest):\n",
    "#     device = torch.device('cpu')\n",
    "#     model = YOLO(\"yolov8n-face.pt\").to(device)\n",
    "\n",
    "#     names = os.listdir(path=fr)\n",
    "#     for name in names:\n",
    "#         imgs = os.listdir(f\"{fr}/{name}\")\n",
    "#         os.makedirs(f\"{dest}/{name}\")\n",
    "#         for img in imgs:\n",
    "#             _img = cv2.imread(f\"{fr}/{name}/{img}\")\n",
    "#             face = model(_img)\n",
    "            \n",
    "#             for result in face:\n",
    "#                 for box in result.boxes.data:\n",
    "#                     x1, y1, x2, y2, score, class_id = box.cpu().numpy()\n",
    "#                     x1, y1, x2, y2 = (int(x1), int(y1), int(x2), int(y2))\n",
    "#                     _img = cv2.resize(_img[y1:y2, x1:x2], (128, 128))\n",
    "\n",
    "#                     cv2.imwrite(img=_img, filename=f\"D:/Recognition + Tracking/{dest}/{name}/{img}\")\n",
    "\n",
    "# save_image(\"Database\", \"face_database\")"
   ]
  }
 ],
 "metadata": {
  "kernelspec": {
   "display_name": "venv",
   "language": "python",
   "name": "python3"
  },
  "language_info": {
   "codemirror_mode": {
    "name": "ipython",
    "version": 3
   },
   "file_extension": ".py",
   "mimetype": "text/x-python",
   "name": "python",
   "nbconvert_exporter": "python",
   "pygments_lexer": "ipython3",
   "version": "3.10.11"
  }
 },
 "nbformat": 4,
 "nbformat_minor": 2
}
